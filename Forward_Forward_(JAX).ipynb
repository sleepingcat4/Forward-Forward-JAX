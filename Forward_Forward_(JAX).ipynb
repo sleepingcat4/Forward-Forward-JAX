{
  "nbformat": 4,
  "nbformat_minor": 0,
  "metadata": {
    "colab": {
      "provenance": []
    },
    "kernelspec": {
      "name": "python3",
      "display_name": "Python 3"
    },
    "language_info": {
      "name": "python"
    }
  },
  "cells": [
    {
      "cell_type": "markdown",
      "source": [
        "Importing the libraries"
      ],
      "metadata": {
        "id": "F4x6IQ9HO3Fy"
      }
    },
    {
      "cell_type": "code",
      "source": [
        "import jax.numpy as np\n",
        "import numpy as jp\n",
        "from jax import grad, jit, vmap\n",
        "from jax.example_libraries import stax\n",
        "import tensorflow_datasets as tfds\n",
        "import tensorflow as tf\n",
        "from jax import random"
      ],
      "metadata": {
        "id": "MdV-zIjhEMP1"
      },
      "execution_count": 13,
      "outputs": []
    },
    {
      "cell_type": "markdown",
      "source": [
        "Configurations"
      ],
      "metadata": {
        "id": "Aq4EF7f9ETpH"
      }
    },
    {
      "cell_type": "code",
      "source": [
        "epochs= 4\n",
        "batch_size = 100\n",
        "learning_rate=0.0001\n",
        "momentum=0.5\n",
        "log_interval=10\n",
        "random_seed=1"
      ],
      "metadata": {
        "id": "_pevxlAkEVQF"
      },
      "execution_count": 14,
      "outputs": []
    },
    {
      "cell_type": "markdown",
      "source": [
        "loading mnist dataset"
      ],
      "metadata": {
        "id": "246StNEgEX4u"
      }
    },
    {
      "cell_type": "code",
      "source": [
        "mnist = tf.keras.datasets.mnist\n",
        "\n",
        "(x_train, y_train), (x_test, y_test) = mnist.load_data()\n",
        "x_train, x_test = x_train / 255.0, x_test / 255.0\n",
        "\n",
        "x_train, x_test = x_train / 255.0, x_test / 255.0"
      ],
      "metadata": {
        "id": "Olod7jBrEa9N"
      },
      "execution_count": 15,
      "outputs": []
    },
    {
      "cell_type": "markdown",
      "source": [
        "Add a channels dimention"
      ],
      "metadata": {
        "id": "NYuAxKh2EjDO"
      }
    },
    {
      "cell_type": "code",
      "source": [
        "x_train = x_train[..., np.newaxis].astype(\"float32\")\n",
        "x_test = x_test[..., np.newaxis].astype(\"float32\")"
      ],
      "metadata": {
        "id": "ziQbjI2EEveU"
      },
      "execution_count": 16,
      "outputs": []
    },
    {
      "cell_type": "markdown",
      "source": [
        "Slice and load the dataset"
      ],
      "metadata": {
        "id": "CKJHySVRE0_I"
      }
    },
    {
      "cell_type": "code",
      "source": [
        "train_ds = tf.data.Dataset.from_tensor_slices((x_train, y_train)).shuffle(10000).batch(32)"
      ],
      "metadata": {
        "id": "ATchX-ZKE26p"
      },
      "execution_count": 17,
      "outputs": []
    },
    {
      "cell_type": "markdown",
      "source": [
        "Creating the model and forward-forward Algorithm"
      ],
      "metadata": {
        "id": "5dl_EYBlE7uZ"
      }
    },
    {
      "cell_type": "code",
      "source": [
        "def FF(params, x):\n",
        "  flatten = np.reshape(x.numpy(), (x.shape[0], -1))\n",
        "  d1 = stax.relu(np.dot(params[0], flatten.T))\n",
        "  d2 = stax.softmax(np.dot(params[1], d1))\n",
        "  return d2"
      ],
      "metadata": {
        "id": "-6c6nPKyFBCJ"
      },
      "execution_count": 18,
      "outputs": []
    },
    {
      "cell_type": "markdown",
      "source": [
        "Initialise the model"
      ],
      "metadata": {
        "id": "dvSl3aGeFFTB"
      }
    },
    {
      "cell_type": "code",
      "source": [
        "params = [random.normal(random.PRNGKey(0), (128, 784)), \n",
        "          random.normal(random.PRNGKey(1), (10, 128))]"
      ],
      "metadata": {
        "id": "CQwCMx3eFIE1"
      },
      "execution_count": 19,
      "outputs": []
    },
    {
      "cell_type": "markdown",
      "source": [
        "One forward pass"
      ],
      "metadata": {
        "id": "23wVvinaFLMs"
      }
    },
    {
      "cell_type": "code",
      "source": [
        "example = iter(train_ds)\n",
        "example_data, example_targets = next(example)\n",
        "FF(params, example_data)"
      ],
      "metadata": {
        "colab": {
          "base_uri": "https://localhost:8080/"
        },
        "id": "wT69IgAjFMqq",
        "outputId": "e43cc2e3-cca5-4eab-9177-1dda0252f0bc"
      },
      "execution_count": 20,
      "outputs": [
        {
          "output_type": "execute_result",
          "data": {
            "text/plain": [
              "DeviceArray([[0.03397974, 0.03148321, 0.02726015, 0.03851986, 0.02929173,\n",
              "              0.03042565, 0.03267166, 0.0278863 , 0.04070515, 0.02798154,\n",
              "              0.0376513 , 0.03847835, 0.02367407, 0.03457629, 0.02664453,\n",
              "              0.03294149, 0.0238378 , 0.02732459, 0.02571376, 0.03125877,\n",
              "              0.02675417, 0.02834845, 0.03618165, 0.03119053, 0.02895185,\n",
              "              0.02597754, 0.03347457, 0.04101501, 0.02582637, 0.0278837 ,\n",
              "              0.03617511, 0.03591515],\n",
              "             [0.03037147, 0.03285338, 0.02738234, 0.02925955, 0.03231522,\n",
              "              0.03578164, 0.02357611, 0.02388836, 0.01676332, 0.0334678 ,\n",
              "              0.01937161, 0.0296717 , 0.01958295, 0.0499936 , 0.02535808,\n",
              "              0.06174255, 0.02882604, 0.0269189 , 0.02812665, 0.01895483,\n",
              "              0.03596638, 0.02615829, 0.04625104, 0.04920212, 0.03085966,\n",
              "              0.02731662, 0.02517976, 0.03134842, 0.02148278, 0.0318905 ,\n",
              "              0.03984275, 0.04029556],\n",
              "             [0.02860824, 0.03226795, 0.04327497, 0.03405725, 0.0410508 ,\n",
              "              0.03769305, 0.02797818, 0.03315292, 0.02861492, 0.04061472,\n",
              "              0.03124066, 0.02047599, 0.0417851 , 0.02577629, 0.02960458,\n",
              "              0.02826336, 0.04424473, 0.02567917, 0.03564619, 0.0212302 ,\n",
              "              0.02971053, 0.03192991, 0.02109311, 0.02213912, 0.02678552,\n",
              "              0.02458598, 0.03695196, 0.03224915, 0.03729855, 0.03111776,\n",
              "              0.02809299, 0.02678614],\n",
              "             [0.02470031, 0.0410446 , 0.02976996, 0.03680912, 0.02690627,\n",
              "              0.03761227, 0.03375574, 0.03305566, 0.03550512, 0.03348023,\n",
              "              0.0283537 , 0.02508573, 0.03028374, 0.02493922, 0.03737958,\n",
              "              0.02144434, 0.03240559, 0.02900775, 0.02994329, 0.028558  ,\n",
              "              0.03362804, 0.0289389 , 0.03161504, 0.0330845 , 0.03315052,\n",
              "              0.04337484, 0.02696544, 0.03690581, 0.0300994 , 0.02877638,\n",
              "              0.01591318, 0.03750773],\n",
              "             [0.02998246, 0.03321081, 0.02504959, 0.02998679, 0.02816779,\n",
              "              0.03308788, 0.03410589, 0.03444253, 0.04258877, 0.02944961,\n",
              "              0.03649663, 0.03706894, 0.03695172, 0.02904117, 0.03172498,\n",
              "              0.02861305, 0.03112205, 0.02704937, 0.03046557, 0.02017657,\n",
              "              0.02620728, 0.02680857, 0.02186572, 0.02608366, 0.03733644,\n",
              "              0.02821192, 0.03472298, 0.03847901, 0.03302702, 0.03086816,\n",
              "              0.03424788, 0.03335916],\n",
              "             [0.02091862, 0.02661718, 0.03077047, 0.03664514, 0.02185176,\n",
              "              0.03098962, 0.03085022, 0.03384294, 0.02703378, 0.02960807,\n",
              "              0.02711142, 0.04020926, 0.03574827, 0.03584684, 0.02290831,\n",
              "              0.03784337, 0.03095349, 0.02647846, 0.04429382, 0.03660876,\n",
              "              0.03155738, 0.03533236, 0.02381349, 0.03794268, 0.03221297,\n",
              "              0.02933386, 0.03591718, 0.03235781, 0.02141805, 0.03663089,\n",
              "              0.03136783, 0.02498571],\n",
              "             [0.01916161, 0.03156785, 0.03218668, 0.03130979, 0.02889343,\n",
              "              0.03065641, 0.04081104, 0.02872493, 0.03032525, 0.03037628,\n",
              "              0.02548361, 0.0217988 , 0.02867074, 0.03572088, 0.02995659,\n",
              "              0.03258016, 0.03268512, 0.02846673, 0.03858094, 0.02893905,\n",
              "              0.03169323, 0.02373176, 0.03499485, 0.02846503, 0.03667621,\n",
              "              0.03401042, 0.02677055, 0.03403943, 0.03145716, 0.03703349,\n",
              "              0.03671899, 0.03751303],\n",
              "             [0.02411374, 0.02689505, 0.03195547, 0.03287539, 0.0423951 ,\n",
              "              0.0358781 , 0.03218175, 0.02874421, 0.02793988, 0.03364946,\n",
              "              0.03726117, 0.03925846, 0.0280105 , 0.03556795, 0.03222505,\n",
              "              0.03504543, 0.0340177 , 0.02474546, 0.03042316, 0.0319136 ,\n",
              "              0.02931104, 0.03826968, 0.03178034, 0.02494955, 0.02619762,\n",
              "              0.02220348, 0.03416338, 0.02784841, 0.02283536, 0.03361292,\n",
              "              0.03225537, 0.03147617],\n",
              "             [0.04061892, 0.02739547, 0.03431325, 0.02482617, 0.04002056,\n",
              "              0.03077882, 0.02940942, 0.0311014 , 0.02411325, 0.03043751,\n",
              "              0.03609806, 0.04095397, 0.03712512, 0.02230215, 0.0269127 ,\n",
              "              0.02071442, 0.03217059, 0.03867347, 0.03505195, 0.03364347,\n",
              "              0.02232677, 0.03962612, 0.0258154 , 0.02337457, 0.03592309,\n",
              "              0.0266405 , 0.02400055, 0.03469676, 0.04122316, 0.02766467,\n",
              "              0.02292037, 0.03912736],\n",
              "             [0.02689366, 0.03451993, 0.02283414, 0.0456534 , 0.02360364,\n",
              "              0.02356322, 0.02962213, 0.03268946, 0.01463549, 0.02221285,\n",
              "              0.04385514, 0.03147263, 0.03332612, 0.02524055, 0.04395507,\n",
              "              0.03423805, 0.02613623, 0.03451635, 0.03747789, 0.03426442,\n",
              "              0.05884536, 0.03596159, 0.03387747, 0.03613931, 0.02549097,\n",
              "              0.03280675, 0.02459948, 0.03280814, 0.02014758, 0.03066042,\n",
              "              0.01876441, 0.02918821]], dtype=float32)"
            ]
          },
          "metadata": {},
          "execution_count": 20
        }
      ]
    },
    {
      "cell_type": "markdown",
      "source": [
        "print the model"
      ],
      "metadata": {
        "id": "BndjM9fnFOKS"
      }
    },
    {
      "cell_type": "code",
      "source": [
        "print(FF)"
      ],
      "metadata": {
        "colab": {
          "base_uri": "https://localhost:8080/"
        },
        "id": "gwpHwRnSFQW1",
        "outputId": "0089d03b-92dd-4b38-8c5c-e9a12e8f48f4"
      },
      "execution_count": 21,
      "outputs": [
        {
          "output_type": "stream",
          "name": "stdout",
          "text": [
            "<function FF at 0x7fb7d3fe6940>\n"
          ]
        }
      ]
    }
  ]
}